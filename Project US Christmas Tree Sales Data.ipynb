{
 "cells": [
  {
   "cell_type": "markdown",
   "id": "0e3f6b05",
   "metadata": {},
   "source": [
    "## US Christmas Tree Sales Data  2010-2016"
   ]
  },
  {
   "cell_type": "markdown",
   "id": "d0e2be85",
   "metadata": {},
   "source": [
    "We are Sorting these things\n",
    "<li>.Analyzing Revenue Over Time</li>\n",
    "<li>.Comparing Average Tree Prices</li>\n",
    "<li>.Correlation Analysis</li>\n",
    "<li>.Seasonal Variations</li>\n"
   ]
  },
  {
   "cell_type": "code",
   "execution_count": 5,
   "id": "56e8194d",
   "metadata": {},
   "outputs": [],
   "source": [
    "import pandas as pd\n",
    "import matplotlib .pyplot as plt \n",
    "import numpy as np"
   ]
  },
  {
   "cell_type": "code",
   "execution_count": 6,
   "id": "b6693da2",
   "metadata": {},
   "outputs": [],
   "source": [
    "df=pd.read_csv(r'C:\\Users\\User\\Documents\\ancy\\Week 40 - US Christmas Tree Sales - 2010 to 2016.csv')"
   ]
  },
  {
   "cell_type": "code",
   "execution_count": 7,
   "id": "ba8adabc",
   "metadata": {},
   "outputs": [
    {
     "data": {
      "text/html": [
       "<div>\n",
       "<style scoped>\n",
       "    .dataframe tbody tr th:only-of-type {\n",
       "        vertical-align: middle;\n",
       "    }\n",
       "\n",
       "    .dataframe tbody tr th {\n",
       "        vertical-align: top;\n",
       "    }\n",
       "\n",
       "    .dataframe thead th {\n",
       "        text-align: right;\n",
       "    }\n",
       "</style>\n",
       "<table border=\"1\" class=\"dataframe\">\n",
       "  <thead>\n",
       "    <tr style=\"text-align: right;\">\n",
       "      <th></th>\n",
       "      <th>index</th>\n",
       "      <th>Year</th>\n",
       "      <th>Type of tree</th>\n",
       "      <th>Number of trees sold</th>\n",
       "      <th>Average Tree Price</th>\n",
       "      <th>Sales</th>\n",
       "    </tr>\n",
       "  </thead>\n",
       "  <tbody>\n",
       "    <tr>\n",
       "      <th>0</th>\n",
       "      <td>0</td>\n",
       "      <td>2010</td>\n",
       "      <td>Real tree</td>\n",
       "      <td>27000000</td>\n",
       "      <td>36.12</td>\n",
       "      <td>975240000</td>\n",
       "    </tr>\n",
       "    <tr>\n",
       "      <th>1</th>\n",
       "      <td>1</td>\n",
       "      <td>2011</td>\n",
       "      <td>Real tree</td>\n",
       "      <td>30800000</td>\n",
       "      <td>34.87</td>\n",
       "      <td>1073996000</td>\n",
       "    </tr>\n",
       "    <tr>\n",
       "      <th>2</th>\n",
       "      <td>2</td>\n",
       "      <td>2012</td>\n",
       "      <td>Real tree</td>\n",
       "      <td>24500000</td>\n",
       "      <td>40.30</td>\n",
       "      <td>987350000</td>\n",
       "    </tr>\n",
       "    <tr>\n",
       "      <th>3</th>\n",
       "      <td>3</td>\n",
       "      <td>2013</td>\n",
       "      <td>Real tree</td>\n",
       "      <td>33020000</td>\n",
       "      <td>35.30</td>\n",
       "      <td>1165606000</td>\n",
       "    </tr>\n",
       "    <tr>\n",
       "      <th>4</th>\n",
       "      <td>4</td>\n",
       "      <td>2014</td>\n",
       "      <td>Real tree</td>\n",
       "      <td>26300000</td>\n",
       "      <td>39.50</td>\n",
       "      <td>1038850000</td>\n",
       "    </tr>\n",
       "    <tr>\n",
       "      <th>5</th>\n",
       "      <td>5</td>\n",
       "      <td>2015</td>\n",
       "      <td>Real tree</td>\n",
       "      <td>25900000</td>\n",
       "      <td>50.82</td>\n",
       "      <td>1316238000</td>\n",
       "    </tr>\n",
       "    <tr>\n",
       "      <th>6</th>\n",
       "      <td>6</td>\n",
       "      <td>2016</td>\n",
       "      <td>Real tree</td>\n",
       "      <td>27400000</td>\n",
       "      <td>74.70</td>\n",
       "      <td>2046780000</td>\n",
       "    </tr>\n",
       "    <tr>\n",
       "      <th>7</th>\n",
       "      <td>7</td>\n",
       "      <td>2010</td>\n",
       "      <td>Fake tree</td>\n",
       "      <td>8200000</td>\n",
       "      <td>64.61</td>\n",
       "      <td>529802000</td>\n",
       "    </tr>\n",
       "    <tr>\n",
       "      <th>8</th>\n",
       "      <td>8</td>\n",
       "      <td>2011</td>\n",
       "      <td>Fake tree</td>\n",
       "      <td>9500000</td>\n",
       "      <td>70.55</td>\n",
       "      <td>670225000</td>\n",
       "    </tr>\n",
       "    <tr>\n",
       "      <th>9</th>\n",
       "      <td>9</td>\n",
       "      <td>2012</td>\n",
       "      <td>Fake tree</td>\n",
       "      <td>10900000</td>\n",
       "      <td>72.50</td>\n",
       "      <td>790250000</td>\n",
       "    </tr>\n",
       "    <tr>\n",
       "      <th>10</th>\n",
       "      <td>10</td>\n",
       "      <td>2013</td>\n",
       "      <td>Fake tree</td>\n",
       "      <td>14700000</td>\n",
       "      <td>81.30</td>\n",
       "      <td>1195110000</td>\n",
       "    </tr>\n",
       "    <tr>\n",
       "      <th>11</th>\n",
       "      <td>11</td>\n",
       "      <td>2014</td>\n",
       "      <td>Fake tree</td>\n",
       "      <td>13900000</td>\n",
       "      <td>63.60</td>\n",
       "      <td>884040000</td>\n",
       "    </tr>\n",
       "    <tr>\n",
       "      <th>12</th>\n",
       "      <td>12</td>\n",
       "      <td>2015</td>\n",
       "      <td>Fake tree</td>\n",
       "      <td>12500000</td>\n",
       "      <td>69.38</td>\n",
       "      <td>867250000</td>\n",
       "    </tr>\n",
       "    <tr>\n",
       "      <th>13</th>\n",
       "      <td>13</td>\n",
       "      <td>2016</td>\n",
       "      <td>Fake tree</td>\n",
       "      <td>18600000</td>\n",
       "      <td>98.70</td>\n",
       "      <td>1835820000</td>\n",
       "    </tr>\n",
       "  </tbody>\n",
       "</table>\n",
       "</div>"
      ],
      "text/plain": [
       "    index  Year Type of tree  Number of trees sold  Average Tree Price  \\\n",
       "0       0  2010    Real tree              27000000               36.12   \n",
       "1       1  2011    Real tree              30800000               34.87   \n",
       "2       2  2012    Real tree              24500000               40.30   \n",
       "3       3  2013    Real tree              33020000               35.30   \n",
       "4       4  2014    Real tree              26300000               39.50   \n",
       "5       5  2015    Real tree              25900000               50.82   \n",
       "6       6  2016    Real tree              27400000               74.70   \n",
       "7       7  2010    Fake tree               8200000               64.61   \n",
       "8       8  2011    Fake tree               9500000               70.55   \n",
       "9       9  2012    Fake tree              10900000               72.50   \n",
       "10     10  2013    Fake tree              14700000               81.30   \n",
       "11     11  2014    Fake tree              13900000               63.60   \n",
       "12     12  2015    Fake tree              12500000               69.38   \n",
       "13     13  2016    Fake tree              18600000               98.70   \n",
       "\n",
       "         Sales  \n",
       "0    975240000  \n",
       "1   1073996000  \n",
       "2    987350000  \n",
       "3   1165606000  \n",
       "4   1038850000  \n",
       "5   1316238000  \n",
       "6   2046780000  \n",
       "7    529802000  \n",
       "8    670225000  \n",
       "9    790250000  \n",
       "10  1195110000  \n",
       "11   884040000  \n",
       "12   867250000  \n",
       "13  1835820000  "
      ]
     },
     "execution_count": 7,
     "metadata": {},
     "output_type": "execute_result"
    }
   ],
   "source": [
    "df"
   ]
  },
  {
   "cell_type": "code",
   "execution_count": 8,
   "id": "d2cbaa48",
   "metadata": {},
   "outputs": [
    {
     "data": {
      "text/html": [
       "<div>\n",
       "<style scoped>\n",
       "    .dataframe tbody tr th:only-of-type {\n",
       "        vertical-align: middle;\n",
       "    }\n",
       "\n",
       "    .dataframe tbody tr th {\n",
       "        vertical-align: top;\n",
       "    }\n",
       "\n",
       "    .dataframe thead th {\n",
       "        text-align: right;\n",
       "    }\n",
       "</style>\n",
       "<table border=\"1\" class=\"dataframe\">\n",
       "  <thead>\n",
       "    <tr style=\"text-align: right;\">\n",
       "      <th></th>\n",
       "      <th>index</th>\n",
       "      <th>Year</th>\n",
       "      <th>Type of tree</th>\n",
       "      <th>Number of trees sold</th>\n",
       "      <th>Average Tree Price</th>\n",
       "      <th>Sales</th>\n",
       "    </tr>\n",
       "  </thead>\n",
       "  <tbody>\n",
       "    <tr>\n",
       "      <th>0</th>\n",
       "      <td>0</td>\n",
       "      <td>2010</td>\n",
       "      <td>Real tree</td>\n",
       "      <td>27000000</td>\n",
       "      <td>36.12</td>\n",
       "      <td>975240000</td>\n",
       "    </tr>\n",
       "    <tr>\n",
       "      <th>1</th>\n",
       "      <td>1</td>\n",
       "      <td>2011</td>\n",
       "      <td>Real tree</td>\n",
       "      <td>30800000</td>\n",
       "      <td>34.87</td>\n",
       "      <td>1073996000</td>\n",
       "    </tr>\n",
       "    <tr>\n",
       "      <th>2</th>\n",
       "      <td>2</td>\n",
       "      <td>2012</td>\n",
       "      <td>Real tree</td>\n",
       "      <td>24500000</td>\n",
       "      <td>40.30</td>\n",
       "      <td>987350000</td>\n",
       "    </tr>\n",
       "    <tr>\n",
       "      <th>3</th>\n",
       "      <td>3</td>\n",
       "      <td>2013</td>\n",
       "      <td>Real tree</td>\n",
       "      <td>33020000</td>\n",
       "      <td>35.30</td>\n",
       "      <td>1165606000</td>\n",
       "    </tr>\n",
       "    <tr>\n",
       "      <th>4</th>\n",
       "      <td>4</td>\n",
       "      <td>2014</td>\n",
       "      <td>Real tree</td>\n",
       "      <td>26300000</td>\n",
       "      <td>39.50</td>\n",
       "      <td>1038850000</td>\n",
       "    </tr>\n",
       "    <tr>\n",
       "      <th>5</th>\n",
       "      <td>5</td>\n",
       "      <td>2015</td>\n",
       "      <td>Real tree</td>\n",
       "      <td>25900000</td>\n",
       "      <td>50.82</td>\n",
       "      <td>1316238000</td>\n",
       "    </tr>\n",
       "    <tr>\n",
       "      <th>6</th>\n",
       "      <td>6</td>\n",
       "      <td>2016</td>\n",
       "      <td>Real tree</td>\n",
       "      <td>27400000</td>\n",
       "      <td>74.70</td>\n",
       "      <td>2046780000</td>\n",
       "    </tr>\n",
       "    <tr>\n",
       "      <th>7</th>\n",
       "      <td>7</td>\n",
       "      <td>2010</td>\n",
       "      <td>Fake tree</td>\n",
       "      <td>8200000</td>\n",
       "      <td>64.61</td>\n",
       "      <td>529802000</td>\n",
       "    </tr>\n",
       "    <tr>\n",
       "      <th>8</th>\n",
       "      <td>8</td>\n",
       "      <td>2011</td>\n",
       "      <td>Fake tree</td>\n",
       "      <td>9500000</td>\n",
       "      <td>70.55</td>\n",
       "      <td>670225000</td>\n",
       "    </tr>\n",
       "    <tr>\n",
       "      <th>9</th>\n",
       "      <td>9</td>\n",
       "      <td>2012</td>\n",
       "      <td>Fake tree</td>\n",
       "      <td>10900000</td>\n",
       "      <td>72.50</td>\n",
       "      <td>790250000</td>\n",
       "    </tr>\n",
       "    <tr>\n",
       "      <th>10</th>\n",
       "      <td>10</td>\n",
       "      <td>2013</td>\n",
       "      <td>Fake tree</td>\n",
       "      <td>14700000</td>\n",
       "      <td>81.30</td>\n",
       "      <td>1195110000</td>\n",
       "    </tr>\n",
       "    <tr>\n",
       "      <th>11</th>\n",
       "      <td>11</td>\n",
       "      <td>2014</td>\n",
       "      <td>Fake tree</td>\n",
       "      <td>13900000</td>\n",
       "      <td>63.60</td>\n",
       "      <td>884040000</td>\n",
       "    </tr>\n",
       "    <tr>\n",
       "      <th>12</th>\n",
       "      <td>12</td>\n",
       "      <td>2015</td>\n",
       "      <td>Fake tree</td>\n",
       "      <td>12500000</td>\n",
       "      <td>69.38</td>\n",
       "      <td>867250000</td>\n",
       "    </tr>\n",
       "    <tr>\n",
       "      <th>13</th>\n",
       "      <td>13</td>\n",
       "      <td>2016</td>\n",
       "      <td>Fake tree</td>\n",
       "      <td>18600000</td>\n",
       "      <td>98.70</td>\n",
       "      <td>1835820000</td>\n",
       "    </tr>\n",
       "  </tbody>\n",
       "</table>\n",
       "</div>"
      ],
      "text/plain": [
       "    index  Year Type of tree  Number of trees sold  Average Tree Price  \\\n",
       "0       0  2010    Real tree              27000000               36.12   \n",
       "1       1  2011    Real tree              30800000               34.87   \n",
       "2       2  2012    Real tree              24500000               40.30   \n",
       "3       3  2013    Real tree              33020000               35.30   \n",
       "4       4  2014    Real tree              26300000               39.50   \n",
       "5       5  2015    Real tree              25900000               50.82   \n",
       "6       6  2016    Real tree              27400000               74.70   \n",
       "7       7  2010    Fake tree               8200000               64.61   \n",
       "8       8  2011    Fake tree               9500000               70.55   \n",
       "9       9  2012    Fake tree              10900000               72.50   \n",
       "10     10  2013    Fake tree              14700000               81.30   \n",
       "11     11  2014    Fake tree              13900000               63.60   \n",
       "12     12  2015    Fake tree              12500000               69.38   \n",
       "13     13  2016    Fake tree              18600000               98.70   \n",
       "\n",
       "         Sales  \n",
       "0    975240000  \n",
       "1   1073996000  \n",
       "2    987350000  \n",
       "3   1165606000  \n",
       "4   1038850000  \n",
       "5   1316238000  \n",
       "6   2046780000  \n",
       "7    529802000  \n",
       "8    670225000  \n",
       "9    790250000  \n",
       "10  1195110000  \n",
       "11   884040000  \n",
       "12   867250000  \n",
       "13  1835820000  "
      ]
     },
     "execution_count": 8,
     "metadata": {},
     "output_type": "execute_result"
    }
   ],
   "source": [
    "df.head(20)"
   ]
  },
  {
   "cell_type": "code",
   "execution_count": 9,
   "id": "f5ca5178",
   "metadata": {},
   "outputs": [
    {
     "data": {
      "text/html": [
       "<div>\n",
       "<style scoped>\n",
       "    .dataframe tbody tr th:only-of-type {\n",
       "        vertical-align: middle;\n",
       "    }\n",
       "\n",
       "    .dataframe tbody tr th {\n",
       "        vertical-align: top;\n",
       "    }\n",
       "\n",
       "    .dataframe thead th {\n",
       "        text-align: right;\n",
       "    }\n",
       "</style>\n",
       "<table border=\"1\" class=\"dataframe\">\n",
       "  <thead>\n",
       "    <tr style=\"text-align: right;\">\n",
       "      <th></th>\n",
       "      <th>index</th>\n",
       "      <th>Year</th>\n",
       "      <th>Type of tree</th>\n",
       "      <th>Number of trees sold</th>\n",
       "      <th>Average Tree Price</th>\n",
       "      <th>Sales</th>\n",
       "    </tr>\n",
       "  </thead>\n",
       "  <tbody>\n",
       "    <tr>\n",
       "      <th>0</th>\n",
       "      <td>0</td>\n",
       "      <td>2010</td>\n",
       "      <td>Real tree</td>\n",
       "      <td>27000000</td>\n",
       "      <td>36.12</td>\n",
       "      <td>975240000</td>\n",
       "    </tr>\n",
       "    <tr>\n",
       "      <th>1</th>\n",
       "      <td>1</td>\n",
       "      <td>2011</td>\n",
       "      <td>Real tree</td>\n",
       "      <td>30800000</td>\n",
       "      <td>34.87</td>\n",
       "      <td>1073996000</td>\n",
       "    </tr>\n",
       "    <tr>\n",
       "      <th>2</th>\n",
       "      <td>2</td>\n",
       "      <td>2012</td>\n",
       "      <td>Real tree</td>\n",
       "      <td>24500000</td>\n",
       "      <td>40.30</td>\n",
       "      <td>987350000</td>\n",
       "    </tr>\n",
       "    <tr>\n",
       "      <th>3</th>\n",
       "      <td>3</td>\n",
       "      <td>2013</td>\n",
       "      <td>Real tree</td>\n",
       "      <td>33020000</td>\n",
       "      <td>35.30</td>\n",
       "      <td>1165606000</td>\n",
       "    </tr>\n",
       "    <tr>\n",
       "      <th>4</th>\n",
       "      <td>4</td>\n",
       "      <td>2014</td>\n",
       "      <td>Real tree</td>\n",
       "      <td>26300000</td>\n",
       "      <td>39.50</td>\n",
       "      <td>1038850000</td>\n",
       "    </tr>\n",
       "    <tr>\n",
       "      <th>5</th>\n",
       "      <td>5</td>\n",
       "      <td>2015</td>\n",
       "      <td>Real tree</td>\n",
       "      <td>25900000</td>\n",
       "      <td>50.82</td>\n",
       "      <td>1316238000</td>\n",
       "    </tr>\n",
       "    <tr>\n",
       "      <th>6</th>\n",
       "      <td>6</td>\n",
       "      <td>2016</td>\n",
       "      <td>Real tree</td>\n",
       "      <td>27400000</td>\n",
       "      <td>74.70</td>\n",
       "      <td>2046780000</td>\n",
       "    </tr>\n",
       "    <tr>\n",
       "      <th>7</th>\n",
       "      <td>7</td>\n",
       "      <td>2010</td>\n",
       "      <td>Fake tree</td>\n",
       "      <td>8200000</td>\n",
       "      <td>64.61</td>\n",
       "      <td>529802000</td>\n",
       "    </tr>\n",
       "    <tr>\n",
       "      <th>8</th>\n",
       "      <td>8</td>\n",
       "      <td>2011</td>\n",
       "      <td>Fake tree</td>\n",
       "      <td>9500000</td>\n",
       "      <td>70.55</td>\n",
       "      <td>670225000</td>\n",
       "    </tr>\n",
       "    <tr>\n",
       "      <th>9</th>\n",
       "      <td>9</td>\n",
       "      <td>2012</td>\n",
       "      <td>Fake tree</td>\n",
       "      <td>10900000</td>\n",
       "      <td>72.50</td>\n",
       "      <td>790250000</td>\n",
       "    </tr>\n",
       "    <tr>\n",
       "      <th>10</th>\n",
       "      <td>10</td>\n",
       "      <td>2013</td>\n",
       "      <td>Fake tree</td>\n",
       "      <td>14700000</td>\n",
       "      <td>81.30</td>\n",
       "      <td>1195110000</td>\n",
       "    </tr>\n",
       "    <tr>\n",
       "      <th>11</th>\n",
       "      <td>11</td>\n",
       "      <td>2014</td>\n",
       "      <td>Fake tree</td>\n",
       "      <td>13900000</td>\n",
       "      <td>63.60</td>\n",
       "      <td>884040000</td>\n",
       "    </tr>\n",
       "    <tr>\n",
       "      <th>12</th>\n",
       "      <td>12</td>\n",
       "      <td>2015</td>\n",
       "      <td>Fake tree</td>\n",
       "      <td>12500000</td>\n",
       "      <td>69.38</td>\n",
       "      <td>867250000</td>\n",
       "    </tr>\n",
       "    <tr>\n",
       "      <th>13</th>\n",
       "      <td>13</td>\n",
       "      <td>2016</td>\n",
       "      <td>Fake tree</td>\n",
       "      <td>18600000</td>\n",
       "      <td>98.70</td>\n",
       "      <td>1835820000</td>\n",
       "    </tr>\n",
       "  </tbody>\n",
       "</table>\n",
       "</div>"
      ],
      "text/plain": [
       "    index  Year Type of tree  Number of trees sold  Average Tree Price  \\\n",
       "0       0  2010    Real tree              27000000               36.12   \n",
       "1       1  2011    Real tree              30800000               34.87   \n",
       "2       2  2012    Real tree              24500000               40.30   \n",
       "3       3  2013    Real tree              33020000               35.30   \n",
       "4       4  2014    Real tree              26300000               39.50   \n",
       "5       5  2015    Real tree              25900000               50.82   \n",
       "6       6  2016    Real tree              27400000               74.70   \n",
       "7       7  2010    Fake tree               8200000               64.61   \n",
       "8       8  2011    Fake tree               9500000               70.55   \n",
       "9       9  2012    Fake tree              10900000               72.50   \n",
       "10     10  2013    Fake tree              14700000               81.30   \n",
       "11     11  2014    Fake tree              13900000               63.60   \n",
       "12     12  2015    Fake tree              12500000               69.38   \n",
       "13     13  2016    Fake tree              18600000               98.70   \n",
       "\n",
       "         Sales  \n",
       "0    975240000  \n",
       "1   1073996000  \n",
       "2    987350000  \n",
       "3   1165606000  \n",
       "4   1038850000  \n",
       "5   1316238000  \n",
       "6   2046780000  \n",
       "7    529802000  \n",
       "8    670225000  \n",
       "9    790250000  \n",
       "10  1195110000  \n",
       "11   884040000  \n",
       "12   867250000  \n",
       "13  1835820000  "
      ]
     },
     "execution_count": 9,
     "metadata": {},
     "output_type": "execute_result"
    }
   ],
   "source": [
    "df.tail(20)"
   ]
  },
  {
   "cell_type": "code",
   "execution_count": 10,
   "id": "507bbebb",
   "metadata": {},
   "outputs": [
    {
     "data": {
      "text/plain": [
       "(14, 6)"
      ]
     },
     "execution_count": 10,
     "metadata": {},
     "output_type": "execute_result"
    }
   ],
   "source": [
    "df.shape"
   ]
  },
  {
   "cell_type": "code",
   "execution_count": 11,
   "id": "0464952d",
   "metadata": {},
   "outputs": [
    {
     "name": "stdout",
     "output_type": "stream",
     "text": [
      "<class 'pandas.core.frame.DataFrame'>\n",
      "RangeIndex: 14 entries, 0 to 13\n",
      "Data columns (total 6 columns):\n",
      " #   Column                Non-Null Count  Dtype  \n",
      "---  ------                --------------  -----  \n",
      " 0   index                 14 non-null     int64  \n",
      " 1   Year                  14 non-null     int64  \n",
      " 2   Type of tree          14 non-null     object \n",
      " 3   Number of trees sold  14 non-null     int64  \n",
      " 4   Average Tree Price    14 non-null     float64\n",
      " 5   Sales                 14 non-null     int64  \n",
      "dtypes: float64(1), int64(4), object(1)\n",
      "memory usage: 804.0+ bytes\n"
     ]
    }
   ],
   "source": [
    "df.info()"
   ]
  },
  {
   "cell_type": "code",
   "execution_count": 12,
   "id": "513a45c1",
   "metadata": {},
   "outputs": [
    {
     "data": {
      "text/html": [
       "<div>\n",
       "<style scoped>\n",
       "    .dataframe tbody tr th:only-of-type {\n",
       "        vertical-align: middle;\n",
       "    }\n",
       "\n",
       "    .dataframe tbody tr th {\n",
       "        vertical-align: top;\n",
       "    }\n",
       "\n",
       "    .dataframe thead th {\n",
       "        text-align: right;\n",
       "    }\n",
       "</style>\n",
       "<table border=\"1\" class=\"dataframe\">\n",
       "  <thead>\n",
       "    <tr style=\"text-align: right;\">\n",
       "      <th></th>\n",
       "      <th>index</th>\n",
       "      <th>Year</th>\n",
       "      <th>Number of trees sold</th>\n",
       "      <th>Average Tree Price</th>\n",
       "      <th>Sales</th>\n",
       "    </tr>\n",
       "  </thead>\n",
       "  <tbody>\n",
       "    <tr>\n",
       "      <th>count</th>\n",
       "      <td>14.0000</td>\n",
       "      <td>14.000000</td>\n",
       "      <td>1.400000e+01</td>\n",
       "      <td>14.000000</td>\n",
       "      <td>1.400000e+01</td>\n",
       "    </tr>\n",
       "    <tr>\n",
       "      <th>mean</th>\n",
       "      <td>6.5000</td>\n",
       "      <td>2013.000000</td>\n",
       "      <td>2.023000e+07</td>\n",
       "      <td>59.446429</td>\n",
       "      <td>1.098326e+09</td>\n",
       "    </tr>\n",
       "    <tr>\n",
       "      <th>std</th>\n",
       "      <td>4.1833</td>\n",
       "      <td>2.075498</td>\n",
       "      <td>8.502216e+06</td>\n",
       "      <td>20.110086</td>\n",
       "      <td>4.148357e+08</td>\n",
       "    </tr>\n",
       "    <tr>\n",
       "      <th>min</th>\n",
       "      <td>0.0000</td>\n",
       "      <td>2010.000000</td>\n",
       "      <td>8.200000e+06</td>\n",
       "      <td>34.870000</td>\n",
       "      <td>5.298020e+08</td>\n",
       "    </tr>\n",
       "    <tr>\n",
       "      <th>25%</th>\n",
       "      <td>3.2500</td>\n",
       "      <td>2011.250000</td>\n",
       "      <td>1.285000e+07</td>\n",
       "      <td>39.700000</td>\n",
       "      <td>8.714475e+08</td>\n",
       "    </tr>\n",
       "    <tr>\n",
       "      <th>50%</th>\n",
       "      <td>6.5000</td>\n",
       "      <td>2013.000000</td>\n",
       "      <td>2.155000e+07</td>\n",
       "      <td>64.105000</td>\n",
       "      <td>1.013100e+09</td>\n",
       "    </tr>\n",
       "    <tr>\n",
       "      <th>75%</th>\n",
       "      <td>9.7500</td>\n",
       "      <td>2014.750000</td>\n",
       "      <td>2.682500e+07</td>\n",
       "      <td>72.012500</td>\n",
       "      <td>1.187734e+09</td>\n",
       "    </tr>\n",
       "    <tr>\n",
       "      <th>max</th>\n",
       "      <td>13.0000</td>\n",
       "      <td>2016.000000</td>\n",
       "      <td>3.302000e+07</td>\n",
       "      <td>98.700000</td>\n",
       "      <td>2.046780e+09</td>\n",
       "    </tr>\n",
       "  </tbody>\n",
       "</table>\n",
       "</div>"
      ],
      "text/plain": [
       "         index         Year  Number of trees sold  Average Tree Price  \\\n",
       "count  14.0000    14.000000          1.400000e+01           14.000000   \n",
       "mean    6.5000  2013.000000          2.023000e+07           59.446429   \n",
       "std     4.1833     2.075498          8.502216e+06           20.110086   \n",
       "min     0.0000  2010.000000          8.200000e+06           34.870000   \n",
       "25%     3.2500  2011.250000          1.285000e+07           39.700000   \n",
       "50%     6.5000  2013.000000          2.155000e+07           64.105000   \n",
       "75%     9.7500  2014.750000          2.682500e+07           72.012500   \n",
       "max    13.0000  2016.000000          3.302000e+07           98.700000   \n",
       "\n",
       "              Sales  \n",
       "count  1.400000e+01  \n",
       "mean   1.098326e+09  \n",
       "std    4.148357e+08  \n",
       "min    5.298020e+08  \n",
       "25%    8.714475e+08  \n",
       "50%    1.013100e+09  \n",
       "75%    1.187734e+09  \n",
       "max    2.046780e+09  "
      ]
     },
     "execution_count": 12,
     "metadata": {},
     "output_type": "execute_result"
    }
   ],
   "source": [
    "df.describe()"
   ]
  },
  {
   "cell_type": "code",
   "execution_count": 13,
   "id": "37eee146",
   "metadata": {},
   "outputs": [
    {
     "data": {
      "text/plain": [
       "index                   0\n",
       "Year                    0\n",
       "Type of tree            0\n",
       "Number of trees sold    0\n",
       "Average Tree Price      0\n",
       "Sales                   0\n",
       "dtype: int64"
      ]
     },
     "execution_count": 13,
     "metadata": {},
     "output_type": "execute_result"
    }
   ],
   "source": [
    "df.isnull().sum()"
   ]
  },
  {
   "cell_type": "code",
   "execution_count": 14,
   "id": "578731d7",
   "metadata": {},
   "outputs": [
    {
     "data": {
      "text/plain": [
       "0     False\n",
       "1     False\n",
       "2     False\n",
       "3     False\n",
       "4     False\n",
       "5     False\n",
       "6     False\n",
       "7     False\n",
       "8     False\n",
       "9     False\n",
       "10    False\n",
       "11    False\n",
       "12    False\n",
       "13    False\n",
       "dtype: bool"
      ]
     },
     "execution_count": 14,
     "metadata": {},
     "output_type": "execute_result"
    }
   ],
   "source": [
    "df.duplicated()"
   ]
  },
  {
   "cell_type": "code",
   "execution_count": 15,
   "id": "d858d40a",
   "metadata": {},
   "outputs": [
    {
     "data": {
      "text/plain": [
       "np.int64(0)"
      ]
     },
     "execution_count": 15,
     "metadata": {},
     "output_type": "execute_result"
    }
   ],
   "source": [
    "df.duplicated().sum()"
   ]
  },
  {
   "cell_type": "code",
   "execution_count": 16,
   "id": "c3231e3a",
   "metadata": {},
   "outputs": [
    {
     "data": {
      "text/plain": [
       "index                   14\n",
       "Year                     7\n",
       "Type of tree             2\n",
       "Number of trees sold    14\n",
       "Average Tree Price      14\n",
       "Sales                   14\n",
       "dtype: int64"
      ]
     },
     "execution_count": 16,
     "metadata": {},
     "output_type": "execute_result"
    }
   ],
   "source": [
    "df.nunique()"
   ]
  },
  {
   "cell_type": "markdown",
   "id": "252a53d3",
   "metadata": {},
   "source": [
    "## 1.Analyzing Revenue Over Time -  Visualize if there is any increasing or decreasing trend in total revenue for all years combined"
   ]
  },
  {
   "cell_type": "code",
   "execution_count": 17,
   "id": "62c3b20e",
   "metadata": {},
   "outputs": [
    {
     "name": "stdout",
     "output_type": "stream",
     "text": [
      "Index(['index', 'Year', 'Type of tree', 'Number of trees sold',\n",
      "       'Average Tree Price', 'Sales'],\n",
      "      dtype='object')\n"
     ]
    }
   ],
   "source": [
    "print(df.columns)"
   ]
  },
  {
   "cell_type": "code",
   "execution_count": 18,
   "id": "efc3d5cf",
   "metadata": {},
   "outputs": [],
   "source": [
    "total_revenue_by_year = df.groupby('Year')['Sales'].sum()"
   ]
  },
  {
   "cell_type": "code",
   "execution_count": 19,
   "id": "157a3cce",
   "metadata": {},
   "outputs": [
    {
     "data": {
      "text/plain": [
       "Year\n",
       "2010    1505042000\n",
       "2011    1744221000\n",
       "2012    1777600000\n",
       "2013    2360716000\n",
       "2014    1922890000\n",
       "2015    2183488000\n",
       "2016    3882600000\n",
       "Name: Sales, dtype: int64"
      ]
     },
     "execution_count": 19,
     "metadata": {},
     "output_type": "execute_result"
    }
   ],
   "source": [
    "total_revenue_by_year"
   ]
  },
  {
   "cell_type": "code",
   "execution_count": 20,
   "id": "62d19bdb",
   "metadata": {},
   "outputs": [
    {
     "data": {
      "image/png": "[encoded data removed]",
      "text/plain": [
       "<Figure size 1000x600 with 1 Axes>"
      ]
     },
     "metadata": {},
     "output_type": "display_data"
    }
   ],
   "source": [
    "plt.figure(figsize=(10, 6))\n",
    "plt.plot(total_revenue_by_year.index, total_revenue_by_year.values, marker='o', color='b')\n",
    "plt.title('Total Revenue by Year (2010-2016)')\n",
    "plt.xlabel('Year')\n",
    "plt.ylabel('Total Sales Revenue')\n",
    "plt.grid(True)\n",
    "plt.show()"
   ]
  },
  {
   "cell_type": "markdown",
   "id": "1fbeb7ef",
   "metadata": {},
   "source": [
    "**From the above graph we found that the overall trend shows an increase in total revenue over the years, indicating a growing market for Christmas trees or increased spending on them.**\n"
   ]
  },
  {
   "cell_type": "markdown",
   "id": "83f98462",
   "metadata": {},
   "source": [
    "## 2. Comparing Average Tree Prices-This analysis can reveal insights into consumer preferences and price elasticity for specific tree species"
   ]
  },
  {
   "cell_type": "code",
   "execution_count": 21,
   "id": "403086cc",
   "metadata": {},
   "outputs": [
    {
     "name": "stdout",
     "output_type": "stream",
     "text": [
      "Index(['index', 'Year', 'Type of tree', 'Number of trees sold',\n",
      "       'Average Tree Price', 'Sales'],\n",
      "      dtype='object')\n"
     ]
    }
   ],
   "source": [
    "print(df.columns)"
   ]
  },
  {
   "cell_type": "code",
   "execution_count": 22,
   "id": "23848d4c",
   "metadata": {},
   "outputs": [],
   "source": [
    "Average_Tree_Prices= df.groupby('Average Tree Price')['Sales'].sum()"
   ]
  },
  {
   "cell_type": "code",
   "execution_count": 23,
   "id": "2358258e",
   "metadata": {},
   "outputs": [
    {
     "data": {
      "text/plain": [
       "Average Tree Price\n",
       "34.87    1073996000\n",
       "35.30    1165606000\n",
       "36.12     975240000\n",
       "39.50    1038850000\n",
       "40.30     987350000\n",
       "50.82    1316238000\n",
       "63.60     884040000\n",
       "64.61     529802000\n",
       "69.38     867250000\n",
       "70.55     670225000\n",
       "72.50     790250000\n",
       "74.70    2046780000\n",
       "81.30    1195110000\n",
       "98.70    1835820000\n",
       "Name: Sales, dtype: int64"
      ]
     },
     "execution_count": 23,
     "metadata": {},
     "output_type": "execute_result"
    }
   ],
   "source": [
    "Average_Tree_Prices"
   ]
  },
  {
   "cell_type": "code",
   "execution_count": 24,
   "id": "85219e3b",
   "metadata": {},
   "outputs": [
    {
     "data": {
      "image/png": "[encoded data removed]",
      "text/plain": [
       "<Figure size 1000x600 with 1 Axes>"
      ]
     },
     "metadata": {},
     "output_type": "display_data"
    }
   ],
   "source": [
    "plt.figure(figsize=(10, 6))\n",
    "Average_Tree_Prices.plot(kind='bar', color='skyblue')\n",
    "plt.xlabel('Average Tree Price')\n",
    "plt.ylabel('Total Sales')\n",
    "plt.title('Total Sales by Average Tree Price')\n",
    "plt.show()"
   ]
  },
  {
   "cell_type": "markdown",
   "id": "ca1c2c07",
   "metadata": {},
   "source": [
    "**From the above plot the highest total sales appear at higher price points,where consumers are comfortable paying more for Christmas trees.   **"
   ]
  },
  {
   "cell_type": "markdown",
   "id": "5bd3aa13",
   "metadata": {},
   "source": [
    "## 3. Correlation Analysis - Explore the relationship between the number of trees sold and sales revenue by calculating correlation coefficients"
   ]
  },
  {
   "cell_type": "code",
   "execution_count": 25,
   "id": "8e0a36c9",
   "metadata": {},
   "outputs": [
    {
     "name": "stdout",
     "output_type": "stream",
     "text": [
      "Index(['index', 'Year', 'Type of tree', 'Number of trees sold',\n",
      "       'Average Tree Price', 'Sales'],\n",
      "      dtype='object')\n"
     ]
    }
   ],
   "source": [
    "print(df.columns)"
   ]
  },
  {
   "cell_type": "code",
   "execution_count": 26,
   "id": "841b63af",
   "metadata": {},
   "outputs": [],
   "source": [
    "Number_Trees= df.groupby('Number of trees sold')['Sales'].sum()"
   ]
  },
  {
   "cell_type": "code",
   "execution_count": 27,
   "id": "2d86ba27",
   "metadata": {},
   "outputs": [
    {
     "data": {
      "text/plain": [
       "Number of trees sold\n",
       "8200000      529802000\n",
       "9500000      670225000\n",
       "10900000     790250000\n",
       "12500000     867250000\n",
       "13900000     884040000\n",
       "14700000    1195110000\n",
       "18600000    1835820000\n",
       "24500000     987350000\n",
       "25900000    1316238000\n",
       "26300000    1038850000\n",
       "27000000     975240000\n",
       "27400000    2046780000\n",
       "30800000    1073996000\n",
       "33020000    1165606000\n",
       "Name: Sales, dtype: int64"
      ]
     },
     "execution_count": 27,
     "metadata": {},
     "output_type": "execute_result"
    }
   ],
   "source": [
    "Number_Trees"
   ]
  },
  {
   "cell_type": "code",
   "execution_count": 28,
   "id": "6a26f9e9",
   "metadata": {},
   "outputs": [
    {
     "data": {
      "image/png": "[encoded data removed]",
      "text/plain": [
       "<Figure size 1000x600 with 1 Axes>"
      ]
     },
     "metadata": {},
     "output_type": "display_data"
    }
   ],
   "source": [
    "plt.figure(figsize=(10, 6))\n",
    "plt.scatter(df['Number of trees sold'], df['Sales'], color='blue', alpha=0.7)\n",
    "plt.xlabel('Number of Trees Sold')\n",
    "plt.ylabel('Sales')\n",
    "plt.title('Sales vs. Number of Trees Sold')\n",
    "plt.show()"
   ]
  },
  {
   "cell_type": "markdown",
   "id": "bad945c3",
   "metadata": {},
   "source": [
    "**From the above plot the analysis highlights the importance of both sales volume and strategic pricing to optimize total revenue.**"
   ]
  },
  {
   "cell_type": "markdown",
   "id": "8ea020e4",
   "metadata": {},
   "source": [
    "## 4. Seasonal Variations - Analyze seasonal patterns in the dataset by grouping data month-wise or quarter-wise\n"
   ]
  },
  {
   "cell_type": "code",
   "execution_count": 29,
   "id": "da0a3322",
   "metadata": {},
   "outputs": [
    {
     "name": "stdout",
     "output_type": "stream",
     "text": [
      "Index(['index', 'Year', 'Type of tree', 'Number of trees sold',\n",
      "       'Average Tree Price', 'Sales'],\n",
      "      dtype='object')\n"
     ]
    }
   ],
   "source": [
    "print(df.columns)"
   ]
  },
  {
   "cell_type": "code",
   "execution_count": 30,
   "id": "f5f3f1f7",
   "metadata": {},
   "outputs": [
    {
     "data": {
      "text/plain": [
       "Year  Type of tree\n",
       "2010  Fake tree        529802000\n",
       "      Real tree        975240000\n",
       "2011  Fake tree        670225000\n",
       "      Real tree       1073996000\n",
       "2012  Fake tree        790250000\n",
       "      Real tree        987350000\n",
       "2013  Fake tree       1195110000\n",
       "      Real tree       1165606000\n",
       "2014  Fake tree        884040000\n",
       "      Real tree       1038850000\n",
       "2015  Fake tree        867250000\n",
       "      Real tree       1316238000\n",
       "2016  Fake tree       1835820000\n",
       "      Real tree       2046780000\n",
       "Name: Sales, dtype: int64"
      ]
     },
     "execution_count": 30,
     "metadata": {},
     "output_type": "execute_result"
    }
   ],
   "source": [
    "yearly_sales = df.groupby(['Year', 'Type of tree'])['Sales'].sum()\n",
    "yearly_sales"
   ]
  },
  {
   "cell_type": "code",
   "execution_count": 31,
   "id": "6bf86da7",
   "metadata": {},
   "outputs": [
    {
     "data": {
      "image/png": "[encoded data removed]",
      "text/plain": [
       "<Figure size 1200x600 with 1 Axes>"
      ]
     },
     "metadata": {},
     "output_type": "display_data"
    }
   ],
   "source": [
    "plt.figure(figsize=(12, 6))\n",
    "yearly_sales.plot(kind='bar',color=['green', 'red'], width=0.8)\n",
    "plt.xlabel('Year')\n",
    "plt.ylabel('Total Sales (in dollars)')\n",
    "plt.title('Yearly Sales of Real and Fake Christmas Trees (2010-2016)')\n",
    "plt.legend(title='Type of Tree')\n",
    "plt.xticks(rotation=45)\n",
    "plt.tight_layout()\n",
    "plt.show()"
   ]
  },
  {
   "cell_type": "markdown",
   "id": "c883c98e",
   "metadata": {},
   "source": [
    "**From the above plot the analysis shows a strong upward trend in the Christmas tree market, with specific opportunities to cater to both traditional and modern preferences.**"
   ]
  },
  {
   "cell_type": "markdown",
   "id": "adfa1deb",
   "metadata": {},
   "source": [
    "# CONCLUSION\n"
   ]
  },
  {
   "cell_type": "markdown",
   "id": "d346d734",
   "metadata": {},
   "source": [
    "**By analysing the provided dataset on U.S.Christmas tree sales we can clearly understand that,the overall trend shows an increase in total revenue over the years, indicating a growing market for Christmas trees or increased spending on them.Higher-priced trees may not always correlate with higher total sales due to lower volume, whereas lower-priced trees might have larger volumes but generate less revenue per tree.The number of trees sold reveals the direct relationship between these two variables. It may indicate that more trees sold correlate with higher revenue, which is a typical trend.A strong upward trend in the Christmas tree market, with specific opportunities to cater to both traditional and modern preferences.**"
   ]
  },
  {
   "cell_type": "code",
   "execution_count": null,
   "id": "b5a10be3",
   "metadata": {},
   "outputs": [],
   "source": []
  }
 ],
 "metadata": {
  "kernelspec": {
   "display_name": "Python 3 (ipykernel)",
   "language": "python",
   "name": "python3"
  },
  "language_info": {
   "codemirror_mode": {
    "name": "ipython",
    "version": 3
   },
   "file_extension": ".py",
   "mimetype": "text/x-python",
   "name": "python",
   "nbconvert_exporter": "python",
   "pygments_lexer": "ipython3",
   "version": "3.11.5"
  }
 },
 "nbformat": 4,
 "nbformat_minor": 5
}
